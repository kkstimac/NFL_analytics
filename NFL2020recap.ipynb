{
 "cells": [
  {
   "cell_type": "code",
   "execution_count": 1,
   "metadata": {},
   "outputs": [],
   "source": [
    "import pandas as pd\n",
    "import matplotlib.pyplot as plt\n",
    "import seaborn as sns\n",
    "import numpy as np\n",
    "from adjustText import adjust_text\n",
    "\n",
    "COLORS = {'ARI':'#97233F','ATL':'#A71930','BAL':'#241773','BUF':'#00338D','CAR':'#0085CA','CHI':'#00143F',\n",
    "          'CIN':'#FB4F14','CLE':'#FB4F14','DAL':'#B0B7BC','DEN':'#002244','DET':'#046EB4','GB':'#24423C',\n",
    "          'HOU':'#C9243F','IND':'#003D79','JAX':'#136677','KC':'#CA2430','LA':'#002147','LAC':'#2072BA',\n",
    "          'LV':'#C4C9CC','MIA':'#0091A0','MIN':'#4F2E84','NE':'#0A2342','NO':'#A08A58','NYG':'#192E6C',\n",
    "          'NYJ':'#203731','PHI':'#014A53','PIT':'#FFC20E','SEA':'#7AC142','SF':'#C9243F','TB':'#D40909',\n",
    "          'TEN':'#4095D1','WAS':'#FFC20F'}"
   ]
  },
  {
   "cell_type": "code",
   "execution_count": null,
   "metadata": {},
   "outputs": [],
   "source": [
    "#Single season\n",
    "YEAR = 2020\n",
    "\n",
    "data = pd.read_csv(\n",
    "    'https://github.com/guga31bb/nflfastR-data/blob/master/data/play_by_play_' \\\n",
    "    + str(YEAR) + '.csv.gz?raw=True',compression='gzip', low_memory=False\n",
    "    )"
   ]
  },
  {
   "cell_type": "code",
   "execution_count": null,
   "metadata": {},
   "outputs": [],
   "source": [
    "df = data[\n",
    "        (data.play_type.isin(['pass','run', 'no_play'])) &\n",
    "        (data.two_point_attempt==0) &\n",
    "        (data['epa'].isna()==False) & \n",
    "        (data['week'] < 18)\n",
    "        ]"
   ]
  },
  {
   "cell_type": "code",
   "execution_count": null,
   "metadata": {},
   "outputs": [],
   "source": [
    "qb_data = (\n",
    "    df.groupby(['passer','posteam']).agg({'epa': 'mean','cpoe': 'mean', 'yards_gained': 'sum', 'pass_touchdown': 'sum', 'wpa': 'count'})\n",
    "    ).reset_index(level='posteam')\n",
    "\n",
    "qb_data = qb_data.loc[qb_data.wpa > 160]\n",
    "qb_data.sort_values('epa', ascending=False, inplace=True)\n",
    "qb_data.columns = ['posteam', 'EPA_play', 'CPOE', 'yards', 'pTD', 'Plays']"
   ]
  },
  {
   "cell_type": "code",
   "execution_count": null,
   "metadata": {},
   "outputs": [],
   "source": [
    "fig, ax = plt.subplots(figsize=(16,12))\n",
    "qb_data['color'] = qb_data['posteam'].map(COLORS)\n",
    "ax.scatter(x = qb_data.yards, y = qb_data.pTD, s = qb_data.Plays/2, c = qb_data.color)\n",
    "\n",
    "texts = [plt.text(x0+0.1,y0+0.1,name,ha='right',va='bottom') for x0,y0,name in zip(\n",
    "    qb_data.yards, qb_data.pTD, qb_data.index)]\n",
    "\n",
    "adjust_text(texts)\n",
    "\n",
    "#Add grid\n",
    "ax.grid(zorder=0,alpha=.4)\n",
    "ax.set_axisbelow(True)\n",
    "\n",
    "#Add trend line\n",
    "m, b = np.polyfit(qb_data.yards, qb_data.pTD, 1)\n",
    "plt.plot(qb_data.yards, m*qb_data.yards + b, 'k', alpha=.3,linestyle='-')\n",
    "\n",
    "#Add title, labels, and cite the data source\n",
    "ax.set_title('QB volume stats',fontsize=20,pad=15)\n",
    "ax.set_xlabel('Passing yards',fontsize=16,labelpad=15)\n",
    "ax.set_ylabel('Passing Touchdowns',fontsize=16,labelpad=15)\n",
    "plt.figtext(.72,.06,'Author: KiraQQ, Data: nflfastR',fontsize=10)"
   ]
  },
  {
   "cell_type": "code",
   "execution_count": null,
   "metadata": {},
   "outputs": [],
   "source": [
    "fig, ax = plt.subplots(figsize=(16,12))\n",
    "qb_data['color'] = qb_data['posteam'].map(COLORS)\n",
    "ax.scatter(x = qb_data.CPOE, y = qb_data.EPA_play, s = qb_data.Plays/2, c = qb_data.color)\n",
    "\n",
    "texts = [plt.text(x0+0.1,y0+0.015,name,ha='right',va='bottom') for x0,y0,name in zip(\n",
    "    qb_data.CPOE, qb_data.EPA_play, qb_data.index)]\n",
    "\n",
    "adjust_text(texts)\n",
    "\n",
    "#Add grid\n",
    "ax.grid(zorder=0,alpha=.4)\n",
    "ax.set_axisbelow(True)\n",
    "\n",
    "#Add trend line\n",
    "m, b = np.polyfit(qb_data.CPOE, qb_data.EPA_play, 1)\n",
    "plt.plot(qb_data.CPOE, m*qb_data.CPOE + b, 'k', alpha=.3,linestyle='-')\n",
    "\n",
    "#Add title, labels, and cite the data source\n",
    "ax.set_title('QB efficacy',fontsize=20,pad=15)\n",
    "ax.set_xlabel('Completed passes over expectation (%)',fontsize=16,labelpad=15)\n",
    "ax.set_ylabel('EPA / play ',fontsize=16,labelpad=15)\n",
    "plt.figtext(.72,.06,'Author: KiraQQ, Data: nflfastR',fontsize=10)"
   ]
  },
  {
   "cell_type": "code",
   "execution_count": null,
   "metadata": {},
   "outputs": [],
   "source": [
    "wr_data = (\n",
    "    df.groupby(['receiver','posteam']).agg({'epa': 'mean','cpoe': 'mean', 'yards_gained': 'sum', 'pass_touchdown': 'sum', 'wpa': 'count'})\n",
    "    ).reset_index(level='posteam')\n",
    "\n",
    "wr_data = wr_data.loc[wr_data.wpa > 80]\n",
    "wr_data.sort_values('yards_gained', ascending=False, inplace=True)\n",
    "wr_data.columns = ['posteam', 'EPA_play', 'CPOE', 'yards', 'pTD', 'Plays']"
   ]
  },
  {
   "cell_type": "code",
   "execution_count": null,
   "metadata": {
    "scrolled": false
   },
   "outputs": [],
   "source": [
    "fig, ax = plt.subplots(figsize=(24,20))\n",
    "wr_data['color'] = wr_data['posteam'].map(COLORS)\n",
    "ax.scatter(x = wr_data.yards, y = wr_data.pTD, s = wr_data.Plays, c = wr_data.color)\n",
    "\n",
    "texts = [plt.text(x0+0.1,y0+0.015,name,ha='right',va='bottom') for x0,y0,name in zip(\n",
    "    wr_data.yards, wr_data.pTD, wr_data.index)]\n",
    "\n",
    "adjust_text(texts)\n",
    "\n",
    "#Add grid\n",
    "ax.grid(zorder=0,alpha=.4)\n",
    "ax.set_axisbelow(True)\n",
    "\n",
    "#Add trend line\n",
    "m, b = np.polyfit(wr_data.yards, wr_data.pTD, 1)\n",
    "plt.plot(wr_data.yards, m*wr_data.yards + b, 'k', alpha=.3,linestyle='-')\n",
    "\n",
    "#Add title, labels, and cite the data source\n",
    "ax.set_title('Receiving - volume stats (minimum 80 targets)',fontsize=20,pad=15)\n",
    "ax.set_xlabel('Receiving yards',fontsize=16,labelpad=15)\n",
    "ax.set_ylabel('Receiving touchdowns',fontsize=16,labelpad=15)\n",
    "plt.figtext(.72,.06,'Author: KiraQQ, Data: nflfastR',fontsize=15)"
   ]
  },
  {
   "cell_type": "code",
   "execution_count": null,
   "metadata": {},
   "outputs": [],
   "source": [
    "fig, ax = plt.subplots(figsize=(24,20))\n",
    "wr_data['color'] = wr_data['posteam'].map(COLORS)\n",
    "ax.scatter(x = wr_data.CPOE, y = wr_data.EPA_play, s = wr_data.Plays, c = wr_data.color)\n",
    "\n",
    "texts = [plt.text(x0,y0,name,ha='right',va='bottom') for x0,y0,name in zip(\n",
    "    wr_data.CPOE, wr_data.EPA_play, wr_data.index)]\n",
    "\n",
    "\n",
    "adjust_text(texts)\n",
    "\n",
    "#Add grid\n",
    "ax.grid(zorder=0,alpha=.4)\n",
    "ax.set_axisbelow(True)\n",
    "\n",
    "#Add trend line\n",
    "m, b = np.polyfit(wr_data.CPOE, wr_data.EPA_play, 1)\n",
    "plt.plot(wr_data.CPOE, m*wr_data.CPOE + b, 'k', alpha=.3,linestyle='-')\n",
    "\n",
    "#Add title, labels, and cite the data source\n",
    "ax.set_title('Receiving - efficacy (minimum 80 targets)',fontsize=20,pad=15)\n",
    "ax.set_xlabel('Completed passes over expectation (%)',fontsize=16,labelpad=15)\n",
    "ax.set_ylabel('EPA / target ',fontsize=16,labelpad=15)\n",
    "plt.figtext(.72,.06,'Author: KiraQQ, Data: nflfastR',fontsize=15)"
   ]
  },
  {
   "cell_type": "code",
   "execution_count": null,
   "metadata": {},
   "outputs": [],
   "source": [
    "wr_df = df[\n",
    "          df.complete_pass==1\n",
    "          ]\n",
    "\n",
    "wr_data_comp = (\n",
    "    wr_df.groupby(['receiver','posteam']).agg({'air_yards': 'mean', 'yards_after_catch': 'mean','wpa': 'count'})\n",
    "    ).reset_index(level='posteam')\n",
    "\n",
    "wr_data_comp = wr_data_comp.loc[wr_data_comp.wpa > 48]\n",
    "wr_data_comp.sort_values('air_yards', ascending=False, inplace=True)\n",
    "wr_data_comp.columns = ['posteam', 'air', 'yac', 'Plays']"
   ]
  },
  {
   "cell_type": "code",
   "execution_count": null,
   "metadata": {},
   "outputs": [],
   "source": [
    "fig, ax = plt.subplots(figsize=(24,20))\n",
    "wr_data_comp['color'] = wr_data_comp['posteam'].map(COLORS)\n",
    "ax.scatter(x = wr_data_comp.air, y = wr_data_comp.yac, s = wr_data_comp.Plays, c = wr_data_comp.color)\n",
    "\n",
    "texts = [plt.text(x0+0.1,y0+0.015,name,ha='right',va='bottom') for x0,y0,name in zip(\n",
    "    wr_data_comp.air, wr_data_comp.yac, wr_data_comp.index)]\n",
    "\n",
    "\n",
    "#adjust_text(texts)\n",
    "\n",
    "#Add grid\n",
    "ax.grid(zorder=0,alpha=.4)\n",
    "ax.set_axisbelow(True)\n",
    "\n",
    "#Add trend line\n",
    "m, b = np.polyfit(wr_data_comp.air, wr_data_comp.yac, 1)\n",
    "plt.plot(wr_data_comp.air, m*wr_data_comp.air + b, 'k', alpha=.3,linestyle='-')\n",
    "\n",
    "#Add title, labels, and cite the data source\n",
    "ax.set_title('Receiving yards per completion - before/after catch (minimum 48 catches)',fontsize=20,pad=15)\n",
    "ax.set_xlabel('Air yards', fontsize=16,labelpad=15)\n",
    "ax.set_ylabel('Yards after catch',fontsize=16,labelpad=15)\n",
    "plt.figtext(.72,.06,'Author: KiraQQ, Data: nflfastR',fontsize=15)"
   ]
  },
  {
   "cell_type": "code",
   "execution_count": null,
   "metadata": {},
   "outputs": [],
   "source": [
    "rb_data = (\n",
    "    df.groupby(['rusher','posteam']).agg({'epa': 'mean','success': 'mean', 'yards_gained': 'sum', 'rush_touchdown': 'sum', 'wpa': 'count'})\n",
    "    ).reset_index(level='posteam')\n",
    "\n",
    "rb_data = rb_data.loc[rb_data.wpa > 100]\n",
    "rb_data.sort_values('epa', ascending=False, inplace=True)\n",
    "rb_data.columns = ['posteam', 'EPA_play', 'success_rate', 'yards', 'rTD', 'Plays']"
   ]
  },
  {
   "cell_type": "code",
   "execution_count": null,
   "metadata": {},
   "outputs": [],
   "source": [
    "fig, ax = plt.subplots(figsize=(16,12))\n",
    "rb_data['color'] = rb_data['posteam'].map(COLORS)\n",
    "ax.scatter(x = rb_data.yards, y = rb_data.rTD, s = rb_data.Plays, c = rb_data.color)\n",
    "\n",
    "texts = [plt.text(x0+0.1,y0+0.015,name,ha='right',va='bottom') for x0,y0,name in zip(\n",
    "    rb_data.yards, rb_data.rTD, rb_data.index)]\n",
    "\n",
    "\n",
    "adjust_text(texts)\n",
    "\n",
    "#Add grid\n",
    "ax.grid(zorder=0,alpha=.4)\n",
    "ax.set_axisbelow(True)\n",
    "\n",
    "#Add trend line\n",
    "m, b = np.polyfit(rb_data.yards, rb_data.rTD, 1)\n",
    "plt.plot(rb_data.yards, m*rb_data.yards + b, 'k', alpha=.3,linestyle='-')\n",
    "\n",
    "#Add title, labels, and cite the data source\n",
    "ax.set_title('Rushing volume stats (minimum 100 rush attempts)',fontsize=20,pad=15)\n",
    "ax.set_xlabel('Rushing yards', fontsize=16,labelpad=15)\n",
    "ax.set_ylabel('Rushing touchdowns',fontsize=16,labelpad=15)\n",
    "plt.figtext(.72,.06,'Author: KiraQQ, Data: nflfastR',fontsize=15)"
   ]
  },
  {
   "cell_type": "code",
   "execution_count": null,
   "metadata": {},
   "outputs": [],
   "source": [
    "fig, ax = plt.subplots(figsize=(16,12))\n",
    "rb_data['color'] = rb_data['posteam'].map(COLORS)\n",
    "ax.scatter(x = rb_data.success_rate, y = rb_data.EPA_play, s = rb_data.Plays, c = rb_data.color)\n",
    "\n",
    "texts = [plt.text(x0,y0,name,ha='right',va='bottom') for x0,y0,name in zip(\n",
    "    rb_data.success_rate, rb_data.EPA_play, rb_data.index)]\n",
    "\n",
    "\n",
    "adjust_text(texts)\n",
    "\n",
    "#Add grid\n",
    "ax.grid(zorder=0,alpha=.4)\n",
    "ax.set_axisbelow(True)\n",
    "\n",
    "#Add trend line\n",
    "m, b = np.polyfit(rb_data.success_rate, rb_data.EPA_play, 1)\n",
    "plt.plot(rb_data.success_rate, m*rb_data.success_rate + b, 'k', alpha=.3,linestyle='-')\n",
    "\n",
    "#Add title, labels, and cite the data source\n",
    "ax.set_title('Rushing efficiency stats (minimum 100 rush attempts)',fontsize=20,pad=15)\n",
    "ax.set_xlabel('Rushing success rate', fontsize=16,labelpad=15)\n",
    "ax.set_ylabel('Rushing EPA/play',fontsize=16,labelpad=15)\n",
    "plt.figtext(.72,.06,'Author: KiraQQ, Data: nflfastR',fontsize=15)"
   ]
  },
  {
   "cell_type": "code",
   "execution_count": null,
   "metadata": {},
   "outputs": [],
   "source": []
  }
 ],
 "metadata": {
  "kernelspec": {
   "display_name": "Python 3",
   "language": "python",
   "name": "python3"
  },
  "language_info": {
   "codemirror_mode": {
    "name": "ipython",
    "version": 3
   },
   "file_extension": ".py",
   "mimetype": "text/x-python",
   "name": "python",
   "nbconvert_exporter": "python",
   "pygments_lexer": "ipython3",
   "version": "3.8.1"
  }
 },
 "nbformat": 4,
 "nbformat_minor": 4
}
